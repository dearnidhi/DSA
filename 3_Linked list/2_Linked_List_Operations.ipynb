{
 "cells": [
  {
   "cell_type": "markdown",
   "metadata": {},
   "source": [
    "# Linked List Operations: Traverse, Insert and Delete"
   ]
  },
  {
   "cell_type": "markdown",
   "metadata": {},
   "source": [
    "* Traversal - access each element of the linked list\n",
    "* Insertion - adds a new element to the linked list\n",
    "* Deletion - removes the existing elements\n",
    "* Search - find a node in the linked list\n",
    "* Sort - sort the nodes of the linked list"
   ]
  },
  {
   "cell_type": "markdown",
   "metadata": {},
   "source": [
    "# Things to Remember about Linked List\n",
    "head points to the first node of the linked list\n",
    "\n",
    "next pointer of the last node is NULL, so if the next current node is NULL, we have reached the end of the linked list."
   ]
  },
  {
   "cell_type": "code",
   "execution_count": 1,
   "metadata": {},
   "outputs": [],
   "source": [
    "class Node:\n",
    "    def __init__(self, data):\n",
    "        self.data = data\n",
    "        self.next = None\n"
   ]
  },
  {
   "cell_type": "markdown",
   "metadata": {},
   "source": [
    "# Traverse a Linked List\n",
    "Displaying the contents of a linked list is very simple. We keep moving the temp node to the next one and display its contents.\n",
    "\n",
    "When temp is NULL, we know that we have reached the end of the linked list so we get out of the while loop."
   ]
  },
  {
   "cell_type": "code",
   "execution_count": 2,
   "metadata": {},
   "outputs": [
    {
     "name": "stdout",
     "output_type": "stream",
     "text": [
      "\n",
      "\n",
      "List elements are - \n",
      "1 ---> 2 ---> 3 ---> "
     ]
    }
   ],
   "source": [
    "class Node:\n",
    "    def __init__(self, data):\n",
    "        self.data = data\n",
    "        self.next = None\n",
    "\n",
    "def print_list(head):\n",
    "    temp = head\n",
    "    print(\"\\n\\nList elements are - \")\n",
    "    while temp is not None:\n",
    "        print(f\"{temp.data} --->\", end=\" \")\n",
    "        temp = temp.next\n",
    "\n",
    "# Example usage\n",
    "head = Node(1)\n",
    "second = Node(2)\n",
    "third = Node(3)\n",
    "\n",
    "# Linking nodes\n",
    "head.next = second\n",
    "second.next = third\n",
    "\n",
    "# Print list\n",
    "print_list(head)\n"
   ]
  },
  {
   "cell_type": "markdown",
   "metadata": {},
   "source": [
    "# Insert Elements to a Linked List"
   ]
  },
  {
   "cell_type": "markdown",
   "metadata": {},
   "source": [
    "You can add elements to either the beginning, middle or end of the linked list.\n",
    "\n"
   ]
  },
  {
   "cell_type": "markdown",
   "metadata": {},
   "source": [
    "# 1. Insert at the beginning\n",
    "Allocate memory for new node\n",
    "\n",
    "Store data\n",
    "\n",
    "Change next of new node to point to head\n",
    "\n",
    "Change head to point to recently created node"
   ]
  },
  {
   "cell_type": "code",
   "execution_count": 3,
   "metadata": {},
   "outputs": [
    {
     "name": "stdout",
     "output_type": "stream",
     "text": [
      "4 ---> 1 ---> 2 ---> 3 ---> None\n"
     ]
    }
   ],
   "source": [
    "class Node:\n",
    "    def __init__(self, data):\n",
    "        self.data = data\n",
    "        self.next = None\n",
    "\n",
    "# Function to insert a new node at the beginning of the list\n",
    "def insert_at_beginning(head, data):\n",
    "    new_node = Node(data)\n",
    "    new_node.next = head\n",
    "    head = new_node\n",
    "    return head\n",
    "\n",
    "# Example usage\n",
    "head = Node(1)\n",
    "second = Node(2)\n",
    "third = Node(3)\n",
    "\n",
    "# Linking nodes\n",
    "head.next = second\n",
    "second.next = third\n",
    "\n",
    "# Insert a new node with data = 4 at the beginning\n",
    "head = insert_at_beginning(head, 4)\n",
    "\n",
    "# Print the updated list\n",
    "def print_list(head):\n",
    "    temp = head\n",
    "    while temp:\n",
    "        print(f\"{temp.data} --->\", end=\" \")\n",
    "        temp = temp.next\n",
    "    print(\"None\")\n",
    "\n",
    "print_list(head)\n"
   ]
  },
  {
   "cell_type": "markdown",
   "metadata": {},
   "source": [
    "# 2. Insert at the End\n",
    "Allocate memory for new node\n",
    "\n",
    "Store data\n",
    "\n",
    "Traverse to last node\n",
    "\n",
    "Change next of last node to recently created node"
   ]
  },
  {
   "cell_type": "code",
   "execution_count": 4,
   "metadata": {},
   "outputs": [
    {
     "name": "stdout",
     "output_type": "stream",
     "text": [
      "1 ---> 4 ---> 2 ---> 3 ---> None\n"
     ]
    }
   ],
   "source": [
    "class Node:\n",
    "    def __init__(self, data):\n",
    "        self.data = data\n",
    "        self.next = None\n",
    "\n",
    "def insert_at_position(head, data, position):\n",
    "    new_node = Node(data)\n",
    "    \n",
    "    # If inserting at the beginning\n",
    "    if position == 1:\n",
    "        new_node.next = head\n",
    "        return new_node\n",
    "    \n",
    "    temp = head\n",
    "    for i in range(2, position):\n",
    "        if temp.next is not None:\n",
    "            temp = temp.next\n",
    "    \n",
    "    new_node.next = temp.next\n",
    "    temp.next = new_node\n",
    "    \n",
    "    return head\n",
    "\n",
    "# Example usage\n",
    "head = Node(1)\n",
    "second = Node(2)\n",
    "third = Node(3)\n",
    "\n",
    "# Linking nodes\n",
    "head.next = second\n",
    "second.next = third\n",
    "\n",
    "# Insert a new node with data = 4 at position 2\n",
    "position = 2\n",
    "head = insert_at_position(head, 4, position)\n",
    "\n",
    "# Print the updated list\n",
    "def print_list(head):\n",
    "    temp = head\n",
    "    while temp:\n",
    "        print(f\"{temp.data} --->\", end=\" \")\n",
    "        temp = temp.next\n",
    "    print(\"None\")\n",
    "\n",
    "print_list(head)\n"
   ]
  },
  {
   "cell_type": "markdown",
   "metadata": {},
   "source": [
    "# 3. Insert at the Middle\n",
    "Allocate memory and store data for new node\n",
    "\n",
    "Traverse to node just before the required position of new node\n",
    "\n",
    "Change next pointers to include new node in between"
   ]
  },
  {
   "cell_type": "code",
   "execution_count": 5,
   "metadata": {},
   "outputs": [
    {
     "name": "stdout",
     "output_type": "stream",
     "text": [
      "1 ---> 4 ---> 2 ---> 3 ---> None\n"
     ]
    }
   ],
   "source": [
    "class Node:\n",
    "    def __init__(self, data):\n",
    "        self.data = data\n",
    "        self.next = None\n",
    "\n",
    "def insert_at_position(head, data, position):\n",
    "    # Create a new node with the given data\n",
    "    new_node = Node(data)\n",
    "    \n",
    "    # If inserting at the beginning (position 1)\n",
    "    if position == 1:\n",
    "        new_node.next = head\n",
    "        return new_node\n",
    "\n",
    "    # Initialize temp to traverse the list\n",
    "    temp = head\n",
    "    \n",
    "    # Traverse the list until the desired position\n",
    "    for i in range(2, position):\n",
    "        if temp.next is not None:\n",
    "            temp = temp.next\n",
    "    \n",
    "    # Insert the new node at the desired position\n",
    "    new_node.next = temp.next\n",
    "    temp.next = new_node\n",
    "    \n",
    "    return head\n",
    "\n",
    "# Example usage\n",
    "head = Node(1)\n",
    "second = Node(2)\n",
    "third = Node(3)\n",
    "\n",
    "# Linking nodes\n",
    "head.next = second\n",
    "second.next = third\n",
    "\n",
    "# Insert a new node with data = 4 at position 2\n",
    "position = 2\n",
    "head = insert_at_position(head, 4, position)\n",
    "\n",
    "# Print the updated list\n",
    "def print_list(head):\n",
    "    temp = head\n",
    "    while temp:\n",
    "        print(f\"{temp.data} --->\", end=\" \")\n",
    "        temp = temp.next\n",
    "    print(\"None\")\n",
    "\n",
    "print_list(head)\n"
   ]
  },
  {
   "cell_type": "markdown",
   "metadata": {},
   "source": [
    "# Delete from a Linked List\n",
    "You can delete either from the beginning, end or from a particular position."
   ]
  },
  {
   "cell_type": "markdown",
   "metadata": {},
   "source": [
    "# 1. Delete from beginning\n",
    "Point head to the second node"
   ]
  },
  {
   "cell_type": "code",
   "execution_count": 6,
   "metadata": {},
   "outputs": [
    {
     "name": "stdout",
     "output_type": "stream",
     "text": [
      "2 ---> 3 ---> None\n"
     ]
    }
   ],
   "source": [
    "def delete_from_beginning(head):\n",
    "    if head is None:\n",
    "        return None  # If the list is empty, nothing to delete\n",
    "    \n",
    "    # Point the head to the second node\n",
    "    head = head.next\n",
    "    return head\n",
    "\n",
    "# Example usage\n",
    "class Node:\n",
    "    def __init__(self, data):\n",
    "        self.data = data\n",
    "        self.next = None\n",
    "\n",
    "# Creating a linked list: 1 -> 2 -> 3 -> None\n",
    "head = Node(1)\n",
    "second = Node(2)\n",
    "third = Node(3)\n",
    "\n",
    "head.next = second\n",
    "second.next = third\n",
    "\n",
    "# Deleting the first node\n",
    "head = delete_from_beginning(head)\n",
    "\n",
    "# Print the updated list\n",
    "def print_list(head):\n",
    "    temp = head\n",
    "    while temp:\n",
    "        print(f\"{temp.data} --->\", end=\" \")\n",
    "        temp = temp.next\n",
    "    print(\"None\")\n",
    "\n",
    "print_list(head)\n"
   ]
  },
  {
   "cell_type": "markdown",
   "metadata": {},
   "source": [
    "# 2. Delete from end\n",
    "Traverse to second last element\n",
    "\n",
    "Change its next pointer to null"
   ]
  },
  {
   "cell_type": "code",
   "execution_count": 7,
   "metadata": {},
   "outputs": [
    {
     "name": "stdout",
     "output_type": "stream",
     "text": [
      "1 ---> 2 ---> None\n"
     ]
    }
   ],
   "source": [
    "def delete_from_end(head):\n",
    "    if head is None:\n",
    "        return None  # If the list is empty, nothing to delete\n",
    "\n",
    "    # If there is only one node in the list\n",
    "    if head.next is None:\n",
    "        return None\n",
    "    \n",
    "    # Initialize pointers\n",
    "    temp = head\n",
    "    \n",
    "    # Traverse the list to find the second last node\n",
    "    while temp.next.next is not None:\n",
    "        temp = temp.next\n",
    "    \n",
    "    # Delete the last node\n",
    "    temp.next = None\n",
    "    \n",
    "    return head\n",
    "\n",
    "# Example usage\n",
    "class Node:\n",
    "    def __init__(self, data):\n",
    "        self.data = data\n",
    "        self.next = None\n",
    "\n",
    "# Creating a linked list: 1 -> 2 -> 3 -> None\n",
    "head = Node(1)\n",
    "second = Node(2)\n",
    "third = Node(3)\n",
    "\n",
    "head.next = second\n",
    "second.next = third\n",
    "\n",
    "# Deleting the last node\n",
    "head = delete_from_end(head)\n",
    "\n",
    "# Print the updated list\n",
    "def print_list(head):\n",
    "    temp = head\n",
    "    while temp:\n",
    "        print(f\"{temp.data} --->\", end=\" \")\n",
    "        temp = temp.next\n",
    "    print(\"None\")\n",
    "\n",
    "print_list(head)\n"
   ]
  },
  {
   "cell_type": "markdown",
   "metadata": {},
   "source": [
    "# 3. Delete from middle\n",
    "Traverse to element before the element to be deleted\n",
    "\n",
    "Change next pointers to exclude the node from the chain"
   ]
  },
  {
   "cell_type": "code",
   "execution_count": 8,
   "metadata": {},
   "outputs": [
    {
     "name": "stdout",
     "output_type": "stream",
     "text": [
      "1 ---> 2 ---> 4 ---> None\n"
     ]
    }
   ],
   "source": [
    "def delete_from_middle(head, position):\n",
    "    if head is None:\n",
    "        return None  # If the list is empty, nothing to delete\n",
    "    \n",
    "    # If deleting the first node\n",
    "    if position == 1:\n",
    "        return head.next\n",
    "    \n",
    "    # Initialize pointers\n",
    "    temp = head\n",
    "    \n",
    "    # Traverse the list to find the node before the one to be deleted\n",
    "    for _ in range(1, position - 1):\n",
    "        if temp is None or temp.next is None:\n",
    "            return head  # Position is out of bounds\n",
    "        temp = temp.next\n",
    "    \n",
    "    # Delete the node at the given position\n",
    "    if temp.next is not None:\n",
    "        temp.next = temp.next.next\n",
    "    \n",
    "    return head\n",
    "\n",
    "# Example usage\n",
    "class Node:\n",
    "    def __init__(self, data):\n",
    "        self.data = data\n",
    "        self.next = None\n",
    "\n",
    "# Creating a linked list: 1 -> 2 -> 3 -> 4 -> None\n",
    "head = Node(1)\n",
    "second = Node(2)\n",
    "third = Node(3)\n",
    "fourth = Node(4)\n",
    "\n",
    "head.next = second\n",
    "second.next = third\n",
    "third.next = fourth\n",
    "\n",
    "# Delete the node at position 3\n",
    "position = 3\n",
    "head = delete_from_middle(head, position)\n",
    "\n",
    "# Print the updated list\n",
    "def print_list(head):\n",
    "    temp = head\n",
    "    while temp:\n",
    "        print(f\"{temp.data} --->\", end=\" \")\n",
    "        temp = temp.next\n",
    "    print(\"None\")\n",
    "\n",
    "print_list(head)\n"
   ]
  },
  {
   "cell_type": "markdown",
   "metadata": {},
   "source": [
    "# Search an Element on a Linked List\n",
    "You can search an element on a linked list using a loop using the following steps. We are finding item on a linked list.\n",
    "\n",
    "Make head as the current node.\n",
    "\n",
    "Run a loop until the current node is NULL because the last element points to NULL.\n",
    "\n",
    "In each iteration, check if the key of the node is equal to item. If it the key matches the item, return true otherwise return false.\n"
   ]
  },
  {
   "cell_type": "code",
   "execution_count": 10,
   "metadata": {},
   "outputs": [
    {
     "name": "stdout",
     "output_type": "stream",
     "text": [
      "Element 3 found in the list.\n"
     ]
    }
   ],
   "source": [
    "def search_node(head, key):\n",
    "    current = head\n",
    "    \n",
    "    while current is not None:\n",
    "        if current.data == key:\n",
    "            return True\n",
    "        current = current.next\n",
    "        \n",
    "    return False\n",
    "\n",
    "# Example usage\n",
    "class Node:\n",
    "    def __init__(self, data):\n",
    "        self.data = data\n",
    "        self.next = None\n",
    "\n",
    "# Creating a linked list: 1 -> 2 -> 3 -> 4 -> None\n",
    "head = Node(1)\n",
    "second = Node(2)\n",
    "third = Node(3)\n",
    "fourth = Node(4)\n",
    "\n",
    "head.next = second\n",
    "second.next = third\n",
    "third.next = fourth\n",
    "\n",
    "# Search for an element\n",
    "key = 3\n",
    "found = search_node(head, key)\n",
    "\n",
    "if found:\n",
    "    print(f\"Element {key} found in the list.\")\n",
    "else:\n",
    "    print(f\"Element {key} not found in the list.\")\n"
   ]
  },
  {
   "cell_type": "markdown",
   "metadata": {},
   "source": [
    "# Sort Elements of a Linked List\n",
    "We will use a simple sorting algorithm, Bubble Sort, to sort the elements of a linked list in ascending order below.\n",
    "\n",
    "* Make the head as the current node and create another node index for later use.\n",
    "* If head is null, return.\n",
    "* Else, run a loop till the last node (i.e. NULL).\n",
    "* In each iteration, follow the following step 5-6.\n",
    "* Store the next node of current in index.\n",
    "* Check if the data of the current node is greater than the next node. If it is greater, swap current and index."
   ]
  },
  {
   "cell_type": "code",
   "execution_count": 9,
   "metadata": {},
   "outputs": [
    {
     "name": "stdout",
     "output_type": "stream",
     "text": [
      "1 ---> 2 ---> 3 ---> 4 ---> None\n"
     ]
    }
   ],
   "source": [
    "def sort_linked_list(head):\n",
    "    if head is None:\n",
    "        return\n",
    "    \n",
    "    current = head\n",
    "    \n",
    "    while current is not None:\n",
    "        index = current.next\n",
    "        \n",
    "        while index is not None:\n",
    "            if current.data > index.data:\n",
    "                # Swap data between current and index nodes\n",
    "                current.data, index.data = index.data, current.data\n",
    "            index = index.next\n",
    "        \n",
    "        current = current.next\n",
    "\n",
    "# Example usage\n",
    "class Node:\n",
    "    def __init__(self, data):\n",
    "        self.data = data\n",
    "        self.next = None\n",
    "\n",
    "# Creating a linked list: 4 -> 2 -> 3 -> 1 -> None\n",
    "head = Node(4)\n",
    "second = Node(2)\n",
    "third = Node(3)\n",
    "fourth = Node(1)\n",
    "\n",
    "head.next = second\n",
    "second.next = third\n",
    "third.next = fourth\n",
    "\n",
    "# Sort the linked list\n",
    "sort_linked_list(head)\n",
    "\n",
    "# Print the sorted list\n",
    "def print_list(head):\n",
    "    temp = head\n",
    "    while temp:\n",
    "        print(f\"{temp.data} --->\", end=\" \")\n",
    "        temp = temp.next\n",
    "    print(\"None\")\n",
    "\n",
    "print_list(head)\n"
   ]
  },
  {
   "cell_type": "markdown",
   "metadata": {},
   "source": [
    "# LinkedList Operations in Python"
   ]
  },
  {
   "cell_type": "code",
   "execution_count": 11,
   "metadata": {},
   "outputs": [
    {
     "name": "stdout",
     "output_type": "stream",
     "text": [
      "Linked list:\n",
      "3 2 5 1 4 \n",
      "After deleting an element:\n",
      "3 2 5 4 \n",
      "3 is found\n",
      "Sorted List:\n",
      "2 3 4 5 \n"
     ]
    }
   ],
   "source": [
    "# Create a node\n",
    "class Node:\n",
    "    def __init__(self, data):\n",
    "        self.data = data\n",
    "        self.next = None\n",
    "\n",
    "class LinkedList:\n",
    "    def __init__(self):\n",
    "        self.head = None\n",
    "\n",
    "    # Insert at the beginning\n",
    "    def insert_at_beginning(self, new_data):\n",
    "        new_node = Node(new_data)\n",
    "        new_node.next = self.head\n",
    "        self.head = new_node\n",
    "\n",
    "    # Insert after a given node\n",
    "    def insert_after(self, prev_node, new_data):\n",
    "        if prev_node is None:\n",
    "            print(\"The given previous node must be in the linked list.\")\n",
    "            return\n",
    "\n",
    "        new_node = Node(new_data)\n",
    "        new_node.next = prev_node.next\n",
    "        prev_node.next = new_node\n",
    "\n",
    "    # Insert at the end\n",
    "    def insert_at_end(self, new_data):\n",
    "        new_node = Node(new_data)\n",
    "        \n",
    "        if self.head is None:\n",
    "            self.head = new_node\n",
    "            return\n",
    "\n",
    "        last = self.head\n",
    "        while last.next:\n",
    "            last = last.next\n",
    "\n",
    "        last.next = new_node\n",
    "\n",
    "    # Delete a node at a specific position\n",
    "    def delete_node(self, position):\n",
    "        if self.head is None:\n",
    "            return\n",
    "\n",
    "        temp = self.head\n",
    "\n",
    "        # If the head needs to be removed\n",
    "        if position == 0:\n",
    "            self.head = temp.next\n",
    "            temp = None\n",
    "            return\n",
    "\n",
    "        # Find the node before the one to be deleted\n",
    "        for _ in range(position - 1):\n",
    "            temp = temp.next\n",
    "            if temp is None:\n",
    "                return\n",
    "\n",
    "        # If the node to be deleted is the last node\n",
    "        if temp.next is None:\n",
    "            return\n",
    "\n",
    "        # Skip the node to be deleted\n",
    "        next_node = temp.next.next\n",
    "        temp.next = None\n",
    "        temp.next = next_node\n",
    "\n",
    "    # Search for an element\n",
    "    def search(self, key):\n",
    "        current = self.head\n",
    "        while current is not None:\n",
    "            if current.data == key:\n",
    "                return True\n",
    "            current = current.next\n",
    "        return False\n",
    "\n",
    "    # Sort the linked list\n",
    "    def sort_linked_list(self):\n",
    "        if self.head is None:\n",
    "            return\n",
    "\n",
    "        current = self.head\n",
    "\n",
    "        while current:\n",
    "            index = current.next\n",
    "            while index:\n",
    "                if current.data > index.data:\n",
    "                    current.data, index.data = index.data, current.data\n",
    "                index = index.next\n",
    "            current = current.next\n",
    "\n",
    "    # Print the linked list\n",
    "    def print_list(self):\n",
    "        temp = self.head\n",
    "        while temp:\n",
    "            print(temp.data, end=\" \")\n",
    "            temp = temp.next\n",
    "        print()\n",
    "\n",
    "if __name__ == '__main__':\n",
    "    llist = LinkedList()\n",
    "    llist.insert_at_end(1)\n",
    "    llist.insert_at_beginning(2)\n",
    "    llist.insert_at_beginning(3)\n",
    "    llist.insert_at_end(4)\n",
    "    llist.insert_after(llist.head.next, 5)\n",
    "\n",
    "    print('Linked list:')\n",
    "    llist.print_list()\n",
    "\n",
    "    print(\"After deleting an element:\")\n",
    "    llist.delete_node(3)\n",
    "    llist.print_list()\n",
    "\n",
    "    item_to_find = 3\n",
    "    if llist.search(item_to_find):\n",
    "        print(f\"{item_to_find} is found\")\n",
    "    else:\n",
    "        print(f\"{item_to_find} is not found\")\n",
    "\n",
    "    llist.sort_linked_list()\n",
    "    print(\"Sorted List:\")\n",
    "    llist.print_list()\n"
   ]
  },
  {
   "cell_type": "code",
   "execution_count": null,
   "metadata": {},
   "outputs": [],
   "source": []
  }
 ],
 "metadata": {
  "kernelspec": {
   "display_name": "Python 3",
   "language": "python",
   "name": "python3"
  },
  "language_info": {
   "codemirror_mode": {
    "name": "ipython",
    "version": 3
   },
   "file_extension": ".py",
   "mimetype": "text/x-python",
   "name": "python",
   "nbconvert_exporter": "python",
   "pygments_lexer": "ipython3",
   "version": "3.11.4"
  }
 },
 "nbformat": 4,
 "nbformat_minor": 2
}
